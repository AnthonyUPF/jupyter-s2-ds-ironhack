{
 "cells": [
  {
   "cell_type": "markdown",
   "id": "94288f27-5854-4a71-9e58-6cc0e7d96b6c",
   "metadata": {},
   "source": [
    "# **Ejercicio: Explorando los Operadores Relacionales**\n",
    "\n",
    "En este ejercicio, exploraremos los diversos operadores relacionales disponibles en Python. Estos operadores se utilizan principalmente para establecer relaciones entre diferentes valores y son esenciales en estructuras de toma de decisiones, aunque no los usaremos en esa capacidad en este ejercicio. Utilizando estos operadores, por favor realiza las siguientes tareas:\n",
    "\n",
    "## **Tarea 1: Operador Igual a (==)**\n",
    "\n",
    "1. Crea dos cadenas y verifica si son iguales usando `==`. Imprime el resultado.\n",
    "2. Crea dos listas con elementos iguales y verifica si son iguales usando `==`. Imprime el resultado."
   ]
  },
  {
   "cell_type": "code",
   "execution_count": 1,
   "id": "6b77dd84-822c-4bdb-9698-6a50b3e58e50",
   "metadata": {},
   "outputs": [],
   "source": [
    "string1=\"Hola\"\n",
    "string2=\"Hola\""
   ]
  },
  {
   "cell_type": "code",
   "execution_count": 2,
   "id": "91aeeb19-981c-4617-abce-d936a91f80f0",
   "metadata": {},
   "outputs": [
    {
     "name": "stdout",
     "output_type": "stream",
     "text": [
      "True\n"
     ]
    }
   ],
   "source": [
    "print(string1==string2)"
   ]
  },
  {
   "cell_type": "code",
   "execution_count": 3,
   "id": "db884f57-b1c4-4485-9f20-5d965ba5e1e8",
   "metadata": {},
   "outputs": [],
   "source": [
    "list1=list(string1)\n",
    "list2=list(string2)"
   ]
  },
  {
   "cell_type": "code",
   "execution_count": 4,
   "id": "5085ad64-b41a-48c7-9a1a-ad98899a4d22",
   "metadata": {},
   "outputs": [
    {
     "name": "stdout",
     "output_type": "stream",
     "text": [
      "True\n"
     ]
    }
   ],
   "source": [
    "print(list1==list2)"
   ]
  },
  {
   "cell_type": "markdown",
   "id": "8c89d409-107e-4fff-a8f7-0ba2b6369b98",
   "metadata": {},
   "source": [
    "## **Tarea 2: Operador No Igual a (!=)**\n",
    "º\n",
    "1. Crea dos enteros y verifica si no son iguales usando `!=`. Imprime el resultado.\n",
    "2. Usa la función `input()` para obtener dos entradas del usuario y verifica si no son iguales usando `!=`. Imprime el resultado."
   ]
  },
  {
   "cell_type": "code",
   "execution_count": 5,
   "id": "29a75a68-ba5d-495e-ae24-80269f7fcfad",
   "metadata": {},
   "outputs": [],
   "source": [
    "int1=5\n",
    "int2=2*int1"
   ]
  },
  {
   "cell_type": "code",
   "execution_count": 6,
   "id": "58188d30-a1b9-403c-9664-6a738e3e825f",
   "metadata": {},
   "outputs": [
    {
     "name": "stdout",
     "output_type": "stream",
     "text": [
      "True\n"
     ]
    }
   ],
   "source": [
    "print(int1!=int2)"
   ]
  },
  {
   "cell_type": "code",
   "execution_count": 7,
   "id": "7e39b946-1225-4b6b-b78a-7fc2615f9e6c",
   "metadata": {},
   "outputs": [
    {
     "name": "stdin",
     "output_type": "stream",
     "text": [
      "Introduce un valor:  hola\n",
      "Introduce un valor diferente:  hola2\n"
     ]
    }
   ],
   "source": [
    "input1=input(\"Introduce un valor: \")\n",
    "input2=input(\"Introduce un valor diferente: \")"
   ]
  },
  {
   "cell_type": "code",
   "execution_count": 8,
   "id": "9de4a442-5954-412a-99ab-18181ca14924",
   "metadata": {},
   "outputs": [
    {
     "name": "stdout",
     "output_type": "stream",
     "text": [
      "True\n"
     ]
    }
   ],
   "source": [
    "print(input1!=input2)"
   ]
  },
  {
   "cell_type": "markdown",
   "id": "594705c3-3349-4eea-a391-5cec74aed0d7",
   "metadata": {},
   "source": [
    "## **Tarea 3: Operadores Mayor que y Menor que (>, <)**\n",
    "\n",
    "1. Crea dos números de punto flotante y verifica si uno es mayor que el otro usando `>`. Imprime el resultado.\n",
    "2. Crea dos números de punto flotante y verifica si uno es menor que el otro usando `<`. Imprime el resultado."
   ]
  },
  {
   "cell_type": "code",
   "execution_count": 9,
   "id": "72e308ea-b2f7-41b6-8fad-3a0e3d2a3f1d",
   "metadata": {},
   "outputs": [],
   "source": [
    "float1=5.3\n",
    "float2=4.5"
   ]
  },
  {
   "cell_type": "code",
   "execution_count": 10,
   "id": "8ece2bb8-4619-4a20-b000-4e33711bb542",
   "metadata": {},
   "outputs": [
    {
     "name": "stdout",
     "output_type": "stream",
     "text": [
      "True\n"
     ]
    }
   ],
   "source": [
    "print(float1>float2)"
   ]
  },
  {
   "cell_type": "code",
   "execution_count": 11,
   "id": "c86a4b65-cdbb-4e3a-b103-d928f212a957",
   "metadata": {},
   "outputs": [],
   "source": [
    "float3=2.4\n",
    "float4=6.7"
   ]
  },
  {
   "cell_type": "code",
   "execution_count": 12,
   "id": "e39ae32b-2074-4d71-b818-46be9e67cc60",
   "metadata": {},
   "outputs": [
    {
     "name": "stdout",
     "output_type": "stream",
     "text": [
      "True\n"
     ]
    }
   ],
   "source": [
    "print(float3<float4)"
   ]
  },
  {
   "cell_type": "markdown",
   "id": "4c0fba3c-adf1-4da0-a5bc-da40f35a1018",
   "metadata": {},
   "source": [
    "## *Tarea 4: Operadores Mayor o Igual a y Menor o Igual a (>=, <=)*\n",
    "\n",
    "1. Crea dos enteros y verifica si uno es mayor o igual al otro usando `>=`. Imprime el resultado.\n",
    "2. Crea dos enteros y verifica si uno es menor o igual al otro usando `<=`. Imprime el resultado."
   ]
  },
  {
   "cell_type": "code",
   "execution_count": 13,
   "id": "779ffbde-9ce6-4aec-ba88-c344e7c6abf4",
   "metadata": {},
   "outputs": [],
   "source": [
    "int3=5\n",
    "int4=4"
   ]
  },
  {
   "cell_type": "code",
   "execution_count": 14,
   "id": "5486c1bd-2f0f-4e18-bf79-13670ad58a1f",
   "metadata": {},
   "outputs": [
    {
     "name": "stdout",
     "output_type": "stream",
     "text": [
      "True\n"
     ]
    }
   ],
   "source": [
    "print(int3>=int4)"
   ]
  },
  {
   "cell_type": "code",
   "execution_count": 15,
   "id": "f058f478-4f6e-4cbb-9541-2c9456fbdece",
   "metadata": {},
   "outputs": [],
   "source": [
    "int5=7\n",
    "int6=8"
   ]
  },
  {
   "cell_type": "code",
   "execution_count": 16,
   "id": "0678f11a-fb53-4b6c-b1ae-72ff14d93c6b",
   "metadata": {},
   "outputs": [
    {
     "name": "stdout",
     "output_type": "stream",
     "text": [
      "True\n"
     ]
    }
   ],
   "source": [
    "print(int5<=int6)"
   ]
  }
 ],
 "metadata": {
  "kernelspec": {
   "display_name": "Python 3 (ipykernel)",
   "language": "python",
   "name": "python3"
  },
  "language_info": {
   "codemirror_mode": {
    "name": "ipython",
    "version": 3
   },
   "file_extension": ".py",
   "mimetype": "text/x-python",
   "name": "python",
   "nbconvert_exporter": "python",
   "pygments_lexer": "ipython3",
   "version": "3.10.12"
  }
 },
 "nbformat": 4,
 "nbformat_minor": 5
}
