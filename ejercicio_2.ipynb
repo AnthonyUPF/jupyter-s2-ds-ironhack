{
 "cells": [
  {
   "cell_type": "markdown",
   "id": "dd39edab-0e79-47a5-a442-23c5705e2079",
   "metadata": {},
   "source": [
    "\n",
    "# **Ejercicio:**\n",
    "\n",
    "Trabajas en el departamento de ventas de una empresa. Al final de cada semana, necesitas generar un informe de las ventas totales realizadas cada día. Tienes una lista donde cada elemento representa las ventas realizadas en cada día de la semana (de lunes a domingo). Tu tarea es calcular las ventas totales de la semana.\n",
    "\n",
    "Para completar este ejercicio, necesitas seguir los pasos dados:\n",
    "\n",
    "1. **Inicializar Variables**: Antes de comenzar el bucle, inicializa una variable `total_sales` a 0. Esto se utilizará para acumular las ventas de cada día. Adicionalmente, inicializa `max_sales` a 0."
   ]
  },
  {
   "cell_type": "code",
   "execution_count": 1,
   "id": "42733f50-153d-480d-b87c-33907828b75e",
   "metadata": {},
   "outputs": [],
   "source": [
    "sales_data = [200, 300, 400, 500, 600, 700, 800]"
   ]
  },
  {
   "cell_type": "code",
   "execution_count": 2,
   "id": "049c41f2-f447-4188-bf7f-ec1546948e7a",
   "metadata": {},
   "outputs": [],
   "source": [
    "total_sales=0\n",
    "max_sales=0"
   ]
  },
  {
   "cell_type": "markdown",
   "id": "51cb2442-3855-461c-8ae5-a26c8739fa11",
   "metadata": {},
   "source": [
    "2. **Creando un Bucle**: Crea un bucle for donde iteres sobre cada elemento en la lista `sales_data`. Puedes usar una estructura de bucle como esta: for day in sales_data:"
   ]
  },
  {
   "cell_type": "code",
   "execution_count": 3,
   "id": "1af00112-7fce-4f7e-ad56-c44aae7dbd69",
   "metadata": {},
   "outputs": [
    {
     "name": "stdout",
     "output_type": "stream",
     "text": [
      "200\n",
      "300\n",
      "400\n",
      "500\n",
      "600\n",
      "700\n",
      "800\n"
     ]
    }
   ],
   "source": [
    "for day in sales_data:\n",
    "    print(day)"
   ]
  },
  {
   "cell_type": "markdown",
   "id": "5dd40daa-166a-43af-ab6b-9a11cb2c1032",
   "metadata": {},
   "source": [
    "3. **Calculando las Ventas Totales**: Dentro del bucle, suma las ventas del día actual a `total_sales`. Puedes hacer esto usando una declaración de asignación como esta: total_sales += day"
   ]
  },
  {
   "cell_type": "code",
   "execution_count": 4,
   "id": "9846e0e1-6395-46cc-82be-6b51c7cd1ffb",
   "metadata": {},
   "outputs": [
    {
     "name": "stdout",
     "output_type": "stream",
     "text": [
      "3500\n"
     ]
    }
   ],
   "source": [
    "for day in sales_data:\n",
    "    total_sales+=day\n",
    "print(total_sales)"
   ]
  },
  {
   "cell_type": "markdown",
   "id": "f0d08ebf-3ed7-4a22-98c1-2a04b7fb052e",
   "metadata": {},
   "source": [
    "4. **Imprimiendo los Resultados**: Después del bucle, imprime el `total_sales` junto con mensajes apropiados para mostrar las ventas totales de la semana y el día con máximas ventas."
   ]
  },
  {
   "cell_type": "code",
   "execution_count": 5,
   "id": "16fe70a8-5f01-49ae-aa75-51007ee77941",
   "metadata": {},
   "outputs": [
    {
     "name": "stdout",
     "output_type": "stream",
     "text": [
      "7\n"
     ]
    }
   ],
   "source": [
    "max_sales=sales_data.index(max(sales_data))+1\n",
    "print(max_sales)"
   ]
  },
  {
   "cell_type": "code",
   "execution_count": 6,
   "id": "ae362d3b-5b34-4ddc-aa09-9d0c3b5d0ff1",
   "metadata": {},
   "outputs": [
    {
     "name": "stdout",
     "output_type": "stream",
     "text": [
      "Las ventas totales de la semana fueron 3500€ y el dia 7 presentó las máximas ventas\n"
     ]
    }
   ],
   "source": [
    "print(f\"Las ventas totales de la semana fueron {total_sales}€ y el dia {max_sales} presentó las máximas ventas\")"
   ]
  },
  {
   "cell_type": "markdown",
   "id": "20143925-60fd-4233-92b1-24dc25188d61",
   "metadata": {},
   "source": [
    "\n",
    "## **Extensión de ejercicio:**\n",
    "\n",
    "Utiliza if statements, para calcularl el top de ventas, y que días fueron el máximo."
   ]
  },
  {
   "cell_type": "code",
   "execution_count": 7,
   "id": "fdb076a8-8b93-4fd6-9084-6879944a6b79",
   "metadata": {},
   "outputs": [],
   "source": [
    "sales_data = [200, 300, 400, 500, 600, 700, 800]\n",
    "total_sales = 0\n",
    "max_sales = 0\n",
    "max_sales_day = 0"
   ]
  },
  {
   "cell_type": "code",
   "execution_count": 8,
   "id": "1e340437-635b-4743-934a-5215f2f5cc1b",
   "metadata": {},
   "outputs": [],
   "source": [
    "for day in sales_data:\n",
    "    if max_sales<=day:\n",
    "        max_sales=day\n",
    "    total_sales+=day\n",
    "max_sales_day=sales_data.index(max_sales)+1"
   ]
  },
  {
   "cell_type": "code",
   "execution_count": 9,
   "id": "bf7e2206-388f-4e30-a9e0-6f34d061a455",
   "metadata": {},
   "outputs": [
    {
     "name": "stdout",
     "output_type": "stream",
     "text": [
      "Las ventas totales de la semana fueron 3500€ y el dia 7 presentó las máximas ventas\n"
     ]
    }
   ],
   "source": [
    "print(f\"Las ventas totales de la semana fueron {total_sales}€ y el dia {max_sales_day} presentó las máximas ventas\")"
   ]
  }
 ],
 "metadata": {
  "kernelspec": {
   "display_name": "Python 3 (ipykernel)",
   "language": "python",
   "name": "python3"
  },
  "language_info": {
   "codemirror_mode": {
    "name": "ipython",
    "version": 3
   },
   "file_extension": ".py",
   "mimetype": "text/x-python",
   "name": "python",
   "nbconvert_exporter": "python",
   "pygments_lexer": "ipython3",
   "version": "3.10.12"
  }
 },
 "nbformat": 4,
 "nbformat_minor": 5
}
