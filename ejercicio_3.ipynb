{
 "cells": [
  {
   "cell_type": "markdown",
   "id": "918198ae-99aa-4863-a260-4584399291e0",
   "metadata": {},
   "source": [
    "# **Desafío 🤔**\n",
    "\n",
    "Escribe un programa simple que imprima si Bob puede entrar al club para cualquier dos valores de las siguientes variables: print(edad_bob, edad_minima)\n"
   ]
  },
  {
   "cell_type": "code",
   "execution_count": 1,
   "id": "4bc1649c-8fa8-4527-81f6-46af5317d031",
   "metadata": {},
   "outputs": [
    {
     "name": "stdin",
     "output_type": "stream",
     "text": [
      "Introduce tu edad:  17\n"
     ]
    }
   ],
   "source": [
    "edad_bob=int(input(\"Introduce tu edad: \"))"
   ]
  },
  {
   "cell_type": "code",
   "execution_count": 2,
   "id": "a632bebd-6cbc-4e04-97dc-7f83ad6b4c65",
   "metadata": {},
   "outputs": [
    {
     "name": "stdout",
     "output_type": "stream",
     "text": [
      "Puedes entrar al club\n"
     ]
    }
   ],
   "source": [
    "edad_minima=16\n",
    "\n",
    "if edad_bob>0:\n",
    "    if (edad_bob >= edad_minima and edad_bob <= (edad_minima+2)):\n",
    "        print(f\"Puedes entrar al club\")\n",
    "    else:\n",
    "        print(f\"No puedes entrar al club\")\n",
    "else:\n",
    "    print(\"La edad no puede ser un numero menor que cero\")"
   ]
  },
  {
   "cell_type": "markdown",
   "id": "4333f65d-c9c1-474b-bd18-1893c9870957",
   "metadata": {},
   "source": [
    "# **Desafío 🤔**\n",
    "\n",
    "Modifica tu programa para que cuando Bob no pueda entrar al club pero sea mayor de edad legal (edad=21), lo envíe a la luz de discoteca.\n"
   ]
  },
  {
   "cell_type": "code",
   "execution_count": 3,
   "id": "76c681d5-4695-4314-bf2e-5af552461230",
   "metadata": {},
   "outputs": [
    {
     "name": "stdin",
     "output_type": "stream",
     "text": [
      "Introduce tu edad:  23\n"
     ]
    }
   ],
   "source": [
    "edad_bob=int(input(\"Introduce tu edad: \"))"
   ]
  },
  {
   "cell_type": "code",
   "execution_count": 4,
   "id": "caeb55d3-50dd-4d2e-8b07-28390c65354c",
   "metadata": {},
   "outputs": [
    {
     "name": "stdout",
     "output_type": "stream",
     "text": [
      "No puedes entrar al club, pero puedes dirigirte a la discoteca\n"
     ]
    }
   ],
   "source": [
    "edad_minima=16\n",
    "edad_legal=21\n",
    "\n",
    "if (edad_bob>0):\n",
    "    if(edad_bob >= edad_minima and edad_bob <= (edad_minima+2)):\n",
    "        print(f\"Puedes entrar al club\")\n",
    "    elif(edad_bob>=21):\n",
    "        print(f\"No puedes entrar al club, pero puedes dirigirte a la discoteca\")\n",
    "    else:\n",
    "        print(f\"No puedes entrar al club\")\n",
    "else:\n",
    "    print(\"La edad no puede ser menor o igual que cero\")"
   ]
  },
  {
   "cell_type": "markdown",
   "id": "0f30a355-3c3a-493d-9454-92d65313633c",
   "metadata": {},
   "source": [
    "# **Ejercicio**\n",
    "\n",
    "\n",
    "Imaginemos que estamos construyendo el programa para un robot que clasifica huevos por tamaño. Nuestro brazo robot recibe información de una báscula, que indica, en gramos, el peso del huevo a clasificar. El brazo debe, a partir del peso, colocar el huevo en una caja u otra de la siguiente manera:\n",
    "\n",
    "- **Caja S** (pequeña): peso menor de 53 gramos.\n",
    "- **Caja M** (mediana): peso mayor o igual a 53 gramos y menor de 63 gramos.\n",
    "- **Caja L** (grande): peso mayor o igual a 63 gramos y menor de 73 gramos.\n",
    "- **Caja XL** (súper grande): peso mayor o igual a 73 gramos.\n"
   ]
  },
  {
   "cell_type": "code",
   "execution_count": 5,
   "id": "a8704875-3cbd-41f8-af5b-a8324526d239",
   "metadata": {},
   "outputs": [
    {
     "name": "stdin",
     "output_type": "stream",
     "text": [
      "Introduce el peso en gramos:  68\n"
     ]
    }
   ],
   "source": [
    "w=int(input(\"Introduce el peso en gramos: \"))"
   ]
  },
  {
   "cell_type": "code",
   "execution_count": 6,
   "id": "e8eb5f45-f3e9-4c2d-a734-f590fbc74f64",
   "metadata": {},
   "outputs": [
    {
     "name": "stdout",
     "output_type": "stream",
     "text": [
      "Caja L\n"
     ]
    }
   ],
   "source": [
    "if(w>0):\n",
    "    if(w<53):\n",
    "        print(\"Caja S\")\n",
    "    elif(w >= 53 and w < 63):\n",
    "        print(\"Caja M\")\n",
    "    elif(w >= 63 and w < 73):\n",
    "        print(\"Caja L\")\n",
    "    else:\n",
    "        print(\"Caja XL\")\n",
    "else:\n",
    "    print(\"El peso no puede ser menor o igual que cero\")"
   ]
  }
 ],
 "metadata": {
  "kernelspec": {
   "display_name": "Python 3 (ipykernel)",
   "language": "python",
   "name": "python3"
  },
  "language_info": {
   "codemirror_mode": {
    "name": "ipython",
    "version": 3
   },
   "file_extension": ".py",
   "mimetype": "text/x-python",
   "name": "python",
   "nbconvert_exporter": "python",
   "pygments_lexer": "ipython3",
   "version": "3.10.12"
  }
 },
 "nbformat": 4,
 "nbformat_minor": 5
}
